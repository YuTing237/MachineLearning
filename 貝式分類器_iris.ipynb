{
  "nbformat": 4,
  "nbformat_minor": 0,
  "metadata": {
    "colab": {
      "provenance": [],
      "authorship_tag": "ABX9TyP9tDdyM60n1SWkJhyipT0H",
      "include_colab_link": true
    },
    "kernelspec": {
      "name": "python3",
      "display_name": "Python 3"
    },
    "language_info": {
      "name": "python"
    }
  },
  "cells": [
    {
      "cell_type": "markdown",
      "metadata": {
        "id": "view-in-github",
        "colab_type": "text"
      },
      "source": [
        "<a href=\"https://colab.research.google.com/github/YuTing237/MachineLearning/blob/main/%E8%B2%9D%E5%BC%8F%E5%88%86%E9%A1%9E%E5%99%A8_iris.ipynb\" target=\"_parent\"><img src=\"https://colab.research.google.com/assets/colab-badge.svg\" alt=\"Open In Colab\"/></a>"
      ]
    },
    {
      "cell_type": "code",
      "execution_count": null,
      "metadata": {
        "colab": {
          "base_uri": "https://localhost:8080/"
        },
        "id": "Eu9ewv3Ykyim",
        "outputId": "70dc71a9-cfc8-4dde-adbf-4c199203405f"
      },
      "outputs": [
        {
          "output_type": "stream",
          "name": "stdout",
          "text": [
            "訓練資料正確率: 0.9619047619047619\n",
            "測試資料正確率: 0.9555555555555556\n"
          ]
        }
      ],
      "source": [
        "from sklearn.datasets import load_iris\n",
        "from sklearn.model_selection import train_test_split  #train_test_split是用于将矩阵随机划分为训练子集和测试子集，并返回划分好的训练集测试集样本和训练集测试集标签。\n",
        "from sklearn.naive_bayes import GaussianNB\n",
        "\n",
        "# 讀入鳶尾花的資料\n",
        "iris=load_iris()\n",
        "iris.data=iris.data\n",
        "iris.label=iris.target #花朵資料集\n",
        "train_data, test_data, train_label, test_label = train_test_split(iris.data, iris.label,test_size=0.3) # 切分訓練與測試資料   #test_size以訓練資料比例70%，測試資料比例30%\n",
        "\n",
        "clf=GaussianNB()\n",
        "clf.fit(train_data,train_label)\n",
        "print(\"訓練資料正確率:\",clf.score(train_data,train_label)) # 訓練資料正確率\n",
        "print(\"測試資料正確率:\",clf.score(test_data, test_label)) # 測試資料正確率\n"
      ]
    },
    {
      "cell_type": "code",
      "source": [],
      "metadata": {
        "id": "eJvJb8T83EJ8"
      },
      "execution_count": null,
      "outputs": []
    }
  ]
}