{
 "cells": [
  {
   "cell_type": "code",
   "execution_count": 12,
   "metadata": {},
   "outputs": [],
   "source": [
    "#載入基本套件\n",
    "from selenium import webdriver\n",
    "from selenium.webdriver.chrome.options import Options\n",
    "from selenium.webdriver.chrome.service import Service\n",
    "from selenium.webdriver.support import expected_conditions as EC\n",
    "from selenium.webdriver.support.ui import WebDriverWait\n",
    "from selenium.webdriver.common.by import By\n",
    "from fake_useragent import UserAgent\n",
    "import random\n",
    "#import string\n",
    "import time"
   ]
  },
  {
   "cell_type": "code",
   "execution_count": 13,
   "metadata": {},
   "outputs": [],
   "source": [
    "options = Options() \n",
    "\n",
    "ua = UserAgent()\n",
    "userAgent = ua.random\n",
    "\n",
    "options.add_argument(f'user-agent={userAgent}')\n",
    "options.add_argument('--headless')  # 非本機執行，必須啟動Headless模式\n",
    "options.add_argument('--disable-gpu') # 關閉GPU 避免某些系統或是網頁出錯\n",
    "\n",
    "service = Service()\n",
    "driver = webdriver.Chrome(service=service, options=options) #將Chrome瀏覽器驅動\n",
    "url = 'http://120.105.96.87/register_all.html' #會連到這個網址\n",
    "driver.get(url)"
   ]
  },
  {
   "cell_type": "code",
   "execution_count": 14,
   "metadata": {},
   "outputs": [],
   "source": [
    "from selenium.webdriver.support.ui import Select\n",
    "\n",
    "myid = driver.find_element(By.NAME, \"id\")\n",
    "myid.clear()\n",
    "myid.send_keys(\"B09090102\") # 輸入學號\n",
    "\n",
    "myemail = driver.find_element(By.NAME, \"email\")\n",
    "myemail.clear()\n",
    "myemail.send_keys(\"b09090102@must.edu.tw\") # 輸入email\n",
    "\n",
    "passwd = driver.find_element(By.NAME, \"pwd\")\n",
    "passwd.clear()\n",
    "passwd.send_keys(\"B09090102\") # 登入密碼為學號\n",
    "\n",
    "sex = driver.find_element(By.ID, \"f\") #輸入要點選的性別:f(女)、m(男)、s(多元)\n",
    "sex.click()\n",
    "\n",
    "interest = driver.find_element(By.ID, \"tv\")  #輸入要點選的興趣:tv(看電視)、movie(看電影)、bike(騎車)\n",
    "interest.click()\n",
    "interest1 = driver.find_element(By.ID, \"movie\")  #輸入要點選的興趣:tv(看電視)、movie(看電影)、bike(騎車)\n",
    "interest1.click()\n",
    "interest2 = driver.find_element(By.ID, \"bike\")  #輸入要點選的興趣:tv(看電視)、movie(看電影)、bike(騎車)\n",
    "interest2.click()\n",
    "\n",
    "county = Select(driver.find_element(By.NAME, \"county\"))\n",
    "county.select_by_value(\"hsinchu\")  #輸入要設定的縣市:hsinchu(新竹縣/市)、taoyuan(桃園)、miaoli(苗栗)、others(其他)\n",
    "\n",
    "driver.get_screenshot_as_file('data5.png') # 註冊畫面 \n",
    "mysubmit = WebDriverWait(driver,5).until(EC.presence_of_element_located((By.NAME, \"submit\")))\n",
    "#WebDriverWait 顯示等待的時間為0.5秒   EC.presence_of_element_located 是否存在於頁面中，如果是，返回該元素，否則報錯。\n",
    "mysubmit.submit()\n",
    "time.sleep(1)\n",
    "driver.get_screenshot_as_file('data6.png') # 註冊結果畫面 會顯示註冊成功，三秒鐘後回到網頁\n",
    "driver.close()"
   ]
  }
 ],
 "metadata": {
  "kernelspec": {
   "display_name": "selenium-strGPMzh",
   "language": "python",
   "name": "python3"
  },
  "language_info": {
   "codemirror_mode": {
    "name": "ipython",
    "version": 3
   },
   "file_extension": ".py",
   "mimetype": "text/x-python",
   "name": "python",
   "nbconvert_exporter": "python",
   "pygments_lexer": "ipython3",
   "version": "3.10.6"
  },
  "orig_nbformat": 4
 },
 "nbformat": 4,
 "nbformat_minor": 2
}
